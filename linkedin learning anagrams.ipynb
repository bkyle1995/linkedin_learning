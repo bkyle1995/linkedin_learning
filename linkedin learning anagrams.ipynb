{
 "cells": [
  {
   "cell_type": "code",
   "execution_count": 1,
   "metadata": {},
   "outputs": [],
   "source": [
    "import pandas as pd\n",
    "import matplotlib.pyplot as plt\n",
    "\n",
    "data = open(\"words.txt\", \"r\")\n",
    "# I still need help working on importing data when it is a filepath and not in the same folder\n",
    "thedictionary =[]\n",
    "#we have imported the txt file words into the list thedictionary\n",
    "\n",
    "for words in open(\"words.txt\", \"r\"):\n",
    "    thedictionary.append(words.strip().lower())\n",
    "\n",
    "#we wanted to get rid of whitespace and capitalization\n",
    "\n",
    "#because there are duplicates when lowercased we are going to build this as a set instead of a list\n",
    "\n",
    "thedictionary = set(thedictionary)\n",
    "\n",
    "\n"
   ]
  },
  {
   "cell_type": "code",
   "execution_count": 2,
   "metadata": {},
   "outputs": [],
   "source": [
    "def ispalindrome(x):\n",
    "    \n",
    "\n",
    "    w = str(x)\n",
    "\n",
    "    rw = w[::-1]\n",
    "\n",
    "    if w == rw:\n",
    "        return w\n",
    "    \n",
    "        \n",
    "#print(ispalindrome(\"wow\"))\n",
    "\n"
   ]
  },
  {
   "cell_type": "code",
   "execution_count": 4,
   "metadata": {},
   "outputs": [],
   "source": [
    "def signature(word):\n",
    "    return ''.join(sorted(word))\n",
    "#signature(\"hello\")"
   ]
  },
  {
   "cell_type": "code",
   "execution_count": 3,
   "metadata": {
    "scrolled": true
   },
   "outputs": [],
   "source": [
    "\n",
    "def isanagram(x,y):\n",
    "    #this function will determine if word x is an anagram of word y\n",
    "    x1 = signature(x)\n",
    "    y1 = signature(y)\n",
    "    \n",
    "    if x1 == y1:\n",
    "        return y1\n",
    "    \n",
    "#isanagram(\"hig\",\"dog\")\n",
    "\n"
   ]
  },
  {
   "cell_type": "code",
   "execution_count": 5,
   "metadata": {},
   "outputs": [],
   "source": [
    "# find all the worlds in the english dictionary that are palindromes\n",
    "\n",
    "allpalindromes = []\n",
    "\n",
    "for words in thedictionary:\n",
    "    if ispalindrome(words):\n",
    "        allpalindromes.append(words)\n",
    "    \n",
    "\n",
    "#print(allpalindromes)\n"
   ]
  },
  {
   "cell_type": "code",
   "execution_count": 10,
   "metadata": {},
   "outputs": [
    {
     "name": "stdout",
     "output_type": "stream",
     "text": [
      "act\n"
     ]
    }
   ],
   "source": [
    "#make a new dictionary with the word as the key and all of the anagrams of that word as the value pairs\n",
    "\n",
    "anagram_dict = {}\n",
    "\n",
    "for word in thedictionary:\n",
    "    anagram_dict[word] = None\n",
    "\n",
    "for key in anagram_dict:\n",
    "    anagram_dict[key] = isanagram(key, key)\n",
    "print(anagram_dict[\"act\"])"
   ]
  },
  {
   "cell_type": "code",
   "execution_count": null,
   "metadata": {},
   "outputs": [],
   "source": []
  },
  {
   "cell_type": "code",
   "execution_count": null,
   "metadata": {},
   "outputs": [],
   "source": []
  }
 ],
 "metadata": {
  "kernelspec": {
   "display_name": "Python 3",
   "language": "python",
   "name": "python3"
  },
  "language_info": {
   "codemirror_mode": {
    "name": "ipython",
    "version": 3
   },
   "file_extension": ".py",
   "mimetype": "text/x-python",
   "name": "python",
   "nbconvert_exporter": "python",
   "pygments_lexer": "ipython3",
   "version": "3.8.3"
  }
 },
 "nbformat": 4,
 "nbformat_minor": 4
}
